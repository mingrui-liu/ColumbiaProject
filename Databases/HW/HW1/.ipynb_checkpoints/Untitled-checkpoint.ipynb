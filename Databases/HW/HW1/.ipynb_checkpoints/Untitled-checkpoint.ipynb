{
 "cells": [
  {
   "cell_type": "code",
   "execution_count": 5,
   "metadata": {},
   "outputs": [],
   "source": [
    "#meandering array\n",
    "import numpy as np\n",
    "# Prints max at first position, min at second position \n",
    "# second max at third position, second min at fourth \n",
    "# position and so on. \n",
    "def rearrange(arr, n): \n",
    "    arr = sorted(arr)\n",
    "    temp = n*[None] \n",
    "    \n",
    "    small,large =0,n-1 \n",
    "    flag = True\n",
    "  \n",
    "    for i in range(n): \n",
    "        if flag is True: \n",
    "            temp[i] = arr[large] \n",
    "            large -= 1\n",
    "        else: \n",
    "            temp[i] = arr[small] \n",
    "            small += 1\n",
    "  \n",
    "        flag = bool(1-flag) \n",
    "  \n",
    "    # Copy temp[] to arr[] \n",
    "    for i in range(n): \n",
    "        arr[i] = temp[i] \n",
    "    return arr "
   ]
  },
  {
   "cell_type": "code",
   "execution_count": 108,
   "metadata": {},
   "outputs": [],
   "source": [
    "#separating student\n",
    "def minmove(arr):\n",
    "    p = 0\n",
    "    n = len(arr)\n",
    "    while p<n:\n",
    "        if arr[p]==1 and arr[p-1]==0:\n",
    "            temp = arr[p]\n",
    "            arr[p]=arr[p-1]\n",
    "            arr[p-1]= temp\n",
    "            p = p-1\n",
    "        else:\n",
    "            p = p+1\n",
    "    \n",
    "    return arr"
   ]
  },
  {
   "cell_type": "code",
   "execution_count": 112,
   "metadata": {},
   "outputs": [],
   "source": [
    "arr = np.array([1,0,0,1,1,0,1])"
   ]
  },
  {
   "cell_type": "code",
   "execution_count": 113,
   "metadata": {},
   "outputs": [],
   "source": [
    "t = minmove(arr)"
   ]
  },
  {
   "cell_type": "code",
   "execution_count": 114,
   "metadata": {},
   "outputs": [
    {
     "data": {
      "text/plain": [
       "array([1, 1, 1, 1, 0, 0, 0])"
      ]
     },
     "execution_count": 114,
     "metadata": {},
     "output_type": "execute_result"
    }
   ],
   "source": [
    "t"
   ]
  },
  {
   "cell_type": "code",
   "execution_count": null,
   "metadata": {},
   "outputs": [],
   "source": [
    "#aladdin\n",
    "tank=start=0\n",
    "        if sum(cost)> sum(gas): return -1\n",
    "        for i in range(len(gas)):\n",
    "            tank+=gas[i]-cost[i]\n",
    "            if tank<0:\n",
    "                tank,start=0,i+1\n",
    "        return start"
   ]
  },
  {
   "cell_type": "code",
   "execution_count": null,
   "metadata": {},
   "outputs": [],
   "source": []
  },
  {
   "cell_type": "code",
   "execution_count": null,
   "metadata": {},
   "outputs": [],
   "source": []
  }
 ],
 "metadata": {
  "kernelspec": {
   "display_name": "Python 3",
   "language": "python",
   "name": "python3"
  },
  "language_info": {
   "codemirror_mode": {
    "name": "ipython",
    "version": 3
   },
   "file_extension": ".py",
   "mimetype": "text/x-python",
   "name": "python",
   "nbconvert_exporter": "python",
   "pygments_lexer": "ipython3",
   "version": "3.7.3"
  }
 },
 "nbformat": 4,
 "nbformat_minor": 4
}
