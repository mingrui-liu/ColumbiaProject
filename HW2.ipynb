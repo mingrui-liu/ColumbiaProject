{
 "cells": [
  {
   "cell_type": "code",
   "execution_count": 125,
   "metadata": {},
   "outputs": [],
   "source": [
    "import pandas as pd\n",
    "import numpy as np\n",
    "import matplotlib.pyplot as plt\n",
    "from sklearn import model_selection \n",
    "from sklearn.datasets import fetch_openml\n",
    "from sklearn.preprocessing import StandardScaler, OneHotEncoder\n",
    "from sklearn.linear_model import LogisticRegression\n",
    "from sklearn.model_selection import cross_val_score"
   ]
  },
  {
   "cell_type": "code",
   "execution_count": 129,
   "metadata": {},
   "outputs": [],
   "source": [
    "import warnings\n",
    "warnings.filterwarnings('ignore')"
   ]
  },
  {
   "cell_type": "code",
   "execution_count": 106,
   "metadata": {},
   "outputs": [],
   "source": [
    "df = fetch_openml('credit-g', as_frame=True)"
   ]
  },
  {
   "cell_type": "code",
   "execution_count": 107,
   "metadata": {},
   "outputs": [
    {
     "data": {
      "text/plain": [
       "sklearn.utils.Bunch"
      ]
     },
     "execution_count": 107,
     "metadata": {},
     "output_type": "execute_result"
    }
   ],
   "source": [
    "type(df)"
   ]
  },
  {
   "cell_type": "code",
   "execution_count": 108,
   "metadata": {},
   "outputs": [],
   "source": [
    "X = df.data\n",
    "y = df.target"
   ]
  },
  {
   "cell_type": "code",
   "execution_count": 109,
   "metadata": {},
   "outputs": [],
   "source": [
    "%matplotlib inline"
   ]
  },
  {
   "cell_type": "markdown",
   "metadata": {},
   "source": [
    "### Question 1.1 \n",
    "Determine which features are continuous and which are categorical."
   ]
  },
  {
   "cell_type": "code",
   "execution_count": 110,
   "metadata": {},
   "outputs": [
    {
     "name": "stdout",
     "output_type": "stream",
     "text": [
      "<class 'pandas.core.frame.DataFrame'>\n",
      "RangeIndex: 1000 entries, 0 to 999\n",
      "Data columns (total 20 columns):\n",
      "checking_status           1000 non-null category\n",
      "duration                  1000 non-null float64\n",
      "credit_history            1000 non-null category\n",
      "purpose                   1000 non-null category\n",
      "credit_amount             1000 non-null float64\n",
      "savings_status            1000 non-null category\n",
      "employment                1000 non-null category\n",
      "installment_commitment    1000 non-null float64\n",
      "personal_status           1000 non-null category\n",
      "other_parties             1000 non-null category\n",
      "residence_since           1000 non-null float64\n",
      "property_magnitude        1000 non-null category\n",
      "age                       1000 non-null float64\n",
      "other_payment_plans       1000 non-null category\n",
      "housing                   1000 non-null category\n",
      "existing_credits          1000 non-null float64\n",
      "job                       1000 non-null category\n",
      "num_dependents            1000 non-null float64\n",
      "own_telephone             1000 non-null category\n",
      "foreign_worker            1000 non-null category\n",
      "dtypes: category(13), float64(7)\n",
      "memory usage: 69.7 KB\n",
      "None\n"
     ]
    }
   ],
   "source": [
    "print(X.info())"
   ]
  },
  {
   "cell_type": "code",
   "execution_count": 111,
   "metadata": {},
   "outputs": [],
   "source": [
    "cols = X.columns\n",
    "numeric_cols = X._get_numeric_data().columns"
   ]
  },
  {
   "cell_type": "code",
   "execution_count": 112,
   "metadata": {},
   "outputs": [
    {
     "name": "stderr",
     "output_type": "stream",
     "text": [
      "//anaconda3/lib/python3.7/site-packages/ipykernel_launcher.py:7: SettingWithCopyWarning: \n",
      "A value is trying to be set on a copy of a slice from a DataFrame.\n",
      "Try using .loc[row_indexer,col_indexer] = value instead\n",
      "\n",
      "See the caveats in the documentation: http://pandas.pydata.org/pandas-docs/stable/user_guide/indexing.html#returning-a-view-versus-a-copy\n",
      "  import sys\n"
     ]
    }
   ],
   "source": [
    "# If numeric feature has level less than 4, view it as a categorical features\n",
    "cont_col = []\n",
    "cat_col = list(set(cols) - set(num_cols))\n",
    "for col in numeric_cols:\n",
    "    if max(list(X[col]))-min(list(X[col]))<4:\n",
    "        cat_col.append(col)\n",
    "        X[col] = X[col].astype('category')\n",
    "\n",
    "    else:\n",
    "        cont_col.append(col)"
   ]
  },
  {
   "cell_type": "code",
   "execution_count": 113,
   "metadata": {},
   "outputs": [
    {
     "data": {
      "text/plain": [
       "['duration', 'credit_amount', 'age']"
      ]
     },
     "execution_count": 113,
     "metadata": {},
     "output_type": "execute_result"
    }
   ],
   "source": [
    "cont_col"
   ]
  },
  {
   "cell_type": "code",
   "execution_count": 114,
   "metadata": {},
   "outputs": [
    {
     "data": {
      "text/plain": [
       "['other_parties',\n",
       " 'foreign_worker',\n",
       " 'savings_status',\n",
       " 'own_telephone',\n",
       " 'checking_status',\n",
       " 'other_payment_plans',\n",
       " 'property_magnitude',\n",
       " 'housing',\n",
       " 'job',\n",
       " 'employment',\n",
       " 'personal_status',\n",
       " 'credit_history',\n",
       " 'purpose',\n",
       " 'installment_commitment',\n",
       " 'residence_since',\n",
       " 'existing_credits',\n",
       " 'num_dependents']"
      ]
     },
     "execution_count": 114,
     "metadata": {},
     "output_type": "execute_result"
    }
   ],
   "source": [
    "cat_col"
   ]
  },
  {
   "cell_type": "markdown",
   "metadata": {},
   "source": [
    "### Question 1.2\n",
    "Visualize the univariate distribution of each continuous feature, and the distribution of the\n",
    "target."
   ]
  },
  {
   "cell_type": "code",
   "execution_count": 115,
   "metadata": {},
   "outputs": [
    {
     "data": {
      "text/plain": [
       "Text(0.5, 1.0, 'target distribution')"
      ]
     },
     "execution_count": 115,
     "metadata": {},
     "output_type": "execute_result"
    },
    {
     "data": {
      "image/png": "[encoded data removed]",
      "text/plain": [
       "<Figure size 1080x1080 with 4 Axes>"
      ]
     },
     "metadata": {
      "needs_background": "light"
     },
     "output_type": "display_data"
    }
   ],
   "source": [
    "fig,ax = plt.subplots(2,2,figsize = (15,15))\n",
    "\n",
    "ax[0,0].hist(X['duration'], bins = \"auto\")\n",
    "ax[0,0].set_xlabel(\"duration\")\n",
    "ax[0,0].set_title(\"duration distribution\")\n",
    "\n",
    "ax[0,1].hist(X[\"credit_amount\"], bins = \"auto\")\n",
    "ax[0,1].set_xlabel(\"credit_amount\")\n",
    "ax[0,1].set_title(\"credit_amount distribution\")\n",
    "\n",
    "ax[1,0].hist(X[\"age\"],bins = \"auto\")\n",
    "ax[1,0].set_xlabel(\"age\")\n",
    "ax[1,0].set_title(\"age distribution\")\n",
    "\n",
    "ax[1,1].hist(y,bins = \"auto\")\n",
    "ax[1,1].set_xlabel(\"target\")\n",
    "ax[1,1].set_title(\"target distribution\")"
   ]
  },
  {
   "cell_type": "markdown",
   "metadata": {},
   "source": [
    "\n",
    "### Question1.3\n",
    "Split data into training and test set. Do not use the test set until a final evaluation in 1.5.\n",
    "Preprocess the data (such as treatment of categorical variables) without using a pipeline and\n",
    "evaluate an initial LogisticRegression model with an training/validation split."
   ]
  },
  {
   "cell_type": "code",
   "execution_count": 118,
   "metadata": {},
   "outputs": [],
   "source": [
    "X_dummy = pd.get_dummies(X)"
   ]
  },
  {
   "cell_type": "code",
   "execution_count": 119,
   "metadata": {},
   "outputs": [],
   "source": [
    "from sklearn.model_selection import train_test_split\n",
    "X_train, X_test, y_train, y_test = train_test_split(X_dummy, y)"
   ]
  },
  {
   "cell_type": "code",
   "execution_count": 132,
   "metadata": {},
   "outputs": [
    {
     "data": {
      "text/plain": [
       "(0.748, 0.03499841266241784)"
      ]
     },
     "execution_count": 132,
     "metadata": {},
     "output_type": "execute_result"
    }
   ],
   "source": [
    "scaler = StandardScaler()\n",
    "scaler.fit(X_train)\n",
    "X_train_scaled = scaler.transform(X_train)\n",
    "\n",
    "scores = cross_val_score(LogisticRegression(), X_train, y_train, cv=10)\n",
    "np.mean(scores), np.std(scores)"
   ]
  }
 ],
 "metadata": {
  "kernelspec": {
   "display_name": "Python 3",
   "language": "python",
   "name": "python3"
  },
  "language_info": {
   "codemirror_mode": {
    "name": "ipython",
    "version": 3
   },
   "file_extension": ".py",
   "mimetype": "text/x-python",
   "name": "python",
   "nbconvert_exporter": "python",
   "pygments_lexer": "ipython3",
   "version": "3.7.3"
  }
 },
 "nbformat": 4,
 "nbformat_minor": 4
}
